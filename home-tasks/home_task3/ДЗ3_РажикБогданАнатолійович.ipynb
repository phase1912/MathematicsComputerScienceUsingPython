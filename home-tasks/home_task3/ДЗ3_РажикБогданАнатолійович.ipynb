{
  "nbformat": 4,
  "nbformat_minor": 0,
  "metadata": {
    "colab": {
      "provenance": []
    },
    "kernelspec": {
      "name": "python3",
      "display_name": "Python 3"
    },
    "language_info": {
      "name": "python"
    }
  },
  "cells": [
    {
      "cell_type": "markdown",
      "source": [
        "\n",
        "\n",
        "Дано 4 точки: $M_0(0, 0, 0), M_1(1, \\frac{1}{3}, 0), M_2(0, 2, \\frac{1}{4}), M_3(\\frac{1}{2}, \\frac{1}{2}, 1)$.\n",
        "\n",
        "Також дано 3 вектори, які задають паралелепіпед із зазначеними точками:\n",
        "- $\\overline{a}=\\overline{M_0M_1}$\n",
        "- $\\overline{b}=\\overline{M_0M_2}$\n",
        "- $\\overline{c}=\\overline{M_0M_3}$\n",
        "\n",
        "Порахуй координати векторів через задані точки.  \n",
        "Порахуй об'єм, площу повної поверхні паралелепіпеда та кути між ребрами паралелепіпеда, координати решти вершин паралелепіпеда.\n",
        "\n"
      ],
      "metadata": {
        "id": "hcaEinFBN22V"
      }
    },
    {
      "cell_type": "markdown",
      "source": [
        "$\\overline{a} = (x_1 - x_0, y_1 - y_0,z_1 - z_0) = (1-0,\\frac{1}{3}-0,0-0) = \\left (\\begin{array}{cc}\n",
        "1\\\\\n",
        "\\frac{1}{3}\\\\\n",
        "0\n",
        "\\end{array}\\right)\n",
        "\\\\\n",
        "\\overline{b} = (x_2-x_0,y_2-y_0,z_2-z_0) = (0-0,2-0,\\frac{1}{4}-0) = \\left (\\begin{array}{cc}\n",
        "0\\\\\n",
        "2\\\\\n",
        "\\frac{1}{4}\n",
        "\\end{array}\\right)\n",
        "\\\\\n",
        "\\overline{c} = (x_3-x_0,y_3-y_0,z_3-z_0) =(\\frac{1}{2}-0,\\frac{1}{2},1-0)= \\left (\\begin{array}{cc}\n",
        "\\frac{1}{2}\\\\\n",
        "\\frac{1}{2}\\\\\n",
        "1\n",
        "\\end{array}\\right)\n",
        "$"
      ],
      "metadata": {
        "id": "sktokwYqSqhu"
      }
    },
    {
      "cell_type": "markdown",
      "source": [
        "$\n",
        "V = ∣a⋅(b×c)∣ = 1.917\\\\\n",
        "S = 2(∥a×b∥+∥a×c∥+∥b×c∥) = 10.503\\\\\n",
        "\\angle(a, b) = 71.71°\\\\\n",
        "\\angle(a, c) = 58.91°\\\\\n",
        "\\angle(b, c) = 59.58 °\\\\\n",
        "M_4 = (1,2.3333,0.25)\\\\\n",
        "M_5 = (1.5,0.8333,1)\\\\\n",
        "M_6 = (0.5,2.5,1.25)\\\\\n",
        "M_7 = (1.5,2.8333,1.25)\n",
        "$"
      ],
      "metadata": {
        "id": "SVtaqixdAuJP"
      }
    },
    {
      "cell_type": "markdown",
      "source": [],
      "metadata": {
        "id": "j-BftieoCHTu"
      }
    }
  ]
}